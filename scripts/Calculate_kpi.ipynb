{
 "cells": [
  {
   "cell_type": "markdown",
   "metadata": {},
   "source": [
    "# Kalkulieren der Key Performance Indicator zu einen Produktionsplan"
   ]
  },
  {
   "cell_type": "code",
   "execution_count": 1,
   "metadata": {},
   "outputs": [],
   "source": [
    "import pandas as pd\n",
    "from datetime import timedelta"
   ]
  },
  {
   "cell_type": "code",
   "execution_count": null,
   "metadata": {},
   "outputs": [],
   "source": [
    "df = pd.read_excel(\"../data/test.xlsx\")"
   ]
  },
  {
   "cell_type": "markdown",
   "metadata": {},
   "source": [
    "1. Gesamtrüstzeit während einer Periode"
   ]
  },
  {
   "cell_type": "code",
   "execution_count": null,
   "metadata": {},
   "outputs": [],
   "source": [
    "def overall_setup_time(df, col_production_date, col_machine, col_setup):\n",
    "    \"\"\"Calculates the overall setup time per machine per day for a given production plan.\n",
    "\n",
    "    Parameters\n",
    "    ----------\n",
    "    df : pd.DataFrame\n",
    "        DataFrame with orders\n",
    "    col_production_date : string\n",
    "        Name of the column with the planned production date of an order\n",
    "    col_machine : string\n",
    "        Name of the column in df with the planned machine for production of an order\n",
    "    col_setup : string\n",
    "        Name of the column with the planned setup time for the order\n",
    "\n",
    "    Returns\n",
    "    -------\n",
    "    pd.DataFrame\n",
    "        DataFrame with the setup times per machine per day\n",
    "    \"\"\"\n",
    "    dates = df[col_production_date].unique() # per date\n",
    "    machines = df[col_machine].unique() # per machine\n",
    "    df_setup_times = pd.DataFrame(columns=['machine_id', 'date', 'setup_time']) # empty df\n",
    "    for date in dates: # Iterate over dates and machines\n",
    "        for machine in machines:\n",
    "            df_day_machine = df[[df[col_production_date]==date and df[col_machine]==machine]]\n",
    "            overall_setup = df_day_machine[col_setup].sum()\n",
    "            new_row = {'machine_id': machine,\n",
    "                        'date': date, 'setup_time': overall_setup}\n",
    "            df_setup_times = df_setup_times.append(new_row, ignore_index=True)\n",
    "    return df_setup_times\n",
    "\n",
    "df_setup_times = overall_setup_time(df, 'Production_date', 'machine_id', 'Ruestzeit_Soll')\n",
    "df_setup_times"
   ]
  },
  {
   "cell_type": "markdown",
   "metadata": {},
   "source": [
    "2. Anzahl verspäteter Aufträge"
   ]
  },
  {
   "cell_type": "code",
   "execution_count": null,
   "metadata": {},
   "outputs": [],
   "source": [
    "def num_tardy_jobs(df,col_production_date, col_delivery_date):\n",
    "    \"\"\"Calculates the number of tardy jobs.\n",
    "\n",
    "    Parameters\n",
    "    ----------\n",
    "    df : pd.DataFrame\n",
    "        DataFrame with orders and defined columns\n",
    "    col_production_date : string\n",
    "        Name of the column with the planned production date of an order\n",
    "    col_delivery_date : string\n",
    "        Name of the column with the delivery date of an order\n",
    "\n",
    "    Returns\n",
    "    -------\n",
    "    int\n",
    "        Number of tardy jobs\n",
    "    \"\"\"\n",
    "    tardy_jobs = df[[df[col_production_date]>= df[col_delivery_date]]].shape[0]\n",
    "    return tardy_jobs\n",
    "\n",
    "tardy_jobs = num_tardy_jobs(df, 'Production_date', 'LTermin')\n",
    "tardy_jobs"
   ]
  },
  {
   "cell_type": "markdown",
   "metadata": {},
   "source": [
    "3. Efficiency: \n",
    "Definiert als Gesamtproduktionszeit/(Gesamtrüstzeit + Gesamtproduktionszeit)"
   ]
  },
  {
   "cell_type": "code",
   "execution_count": null,
   "metadata": {},
   "outputs": [],
   "source": [
    "def calculate_efficiency(df, col_production_date, col_machine, col_setup, col_runtime):\n",
    "    \"\"\"\"Calculates the efficiency of a production plan per machine per date.\n",
    "    Efficiency is defined as *overall production time / (overall setup time + overall production time)*.\n",
    "\n",
    "    Parameters\n",
    "    ----------\n",
    "    df : pd.DataFrame \n",
    "        DataFrame with production orders and the defined columns\n",
    "    col_production_date : string\n",
    "        Name of the column with the planned production date of an order\n",
    "    col_machine : string\n",
    "        Name of the column in df with the planned machine for production of an order\n",
    "    col_setup : string\n",
    "        Name of the column with the planned setup time for the order\n",
    "    col_runtime : sting\n",
    "        Name of the column with the planned runtime for an order\n",
    "\n",
    "    Returns\n",
    "    -------\n",
    "    pd.DataFrame\n",
    "        df with efficiency of the production plan per day per machine\n",
    "    \"\"\"\n",
    "    # Per day per machine\n",
    "    dates = df[col_production_date].unique()\n",
    "    machines = df[col_machine].unique()\n",
    "    df_efficiency = pd.DataFrame(columns=['machine_id', 'date', 'efficiency'])\n",
    "    for date in dates:\n",
    "        for machine in machines:\n",
    "            # Select machine and day in df and calculate efficiency\n",
    "            df_day_machine = df[[df[col_production_date]==date and df[col_machine]==machine]]\n",
    "            overall_setup = df_day_machine[col_setup].sum()\n",
    "            overall_runtime = df_day_machine[col_runtime].sum()\n",
    "            efficiency = overall_runtime/(overall_setup + overall_runtime)\n",
    "            new_row = {'machine_id': machine,\n",
    "                        'date': date, 'efficiency': efficiency}\n",
    "            df_efficiency = df_efficiency.append(new_row, ignore_index=True)\n",
    "    return df_efficiency\n",
    "\n",
    "df_efficiency = calculate_efficiency(df, 'Production_date', 'machine_id', 'Ruestzeit_Soll','Laufzeit_Soll')\n",
    "df_efficiency"
   ]
  }
 ],
 "metadata": {
  "interpreter": {
   "hash": "0852e6fd3177313216e81e572521c7691f86b87e43d8cd70882ac72d172a5c8e"
  },
  "kernelspec": {
   "display_name": "Python 3.7.9 ('arise_lib_env')",
   "language": "python",
   "name": "python3"
  },
  "language_info": {
   "codemirror_mode": {
    "name": "ipython",
    "version": 3
   },
   "file_extension": ".py",
   "mimetype": "text/x-python",
   "name": "python",
   "nbconvert_exporter": "python",
   "pygments_lexer": "ipython3",
   "version": "3.7.9"
  },
  "orig_nbformat": 4
 },
 "nbformat": 4,
 "nbformat_minor": 2
}
