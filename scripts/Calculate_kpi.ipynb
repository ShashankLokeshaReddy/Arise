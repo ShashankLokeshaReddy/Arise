{
 "cells": [
  {
   "cell_type": "markdown",
   "metadata": {},
   "source": [
    "# Kalkulieren der Key Performance Indicator zu einen Produktionsplan"
   ]
  },
  {
   "cell_type": "code",
   "execution_count": 1,
   "metadata": {},
   "outputs": [],
   "source": [
    "import pandas as pd\n",
    "from datetime import timedelta"
   ]
  },
  {
   "cell_type": "code",
   "execution_count": null,
   "metadata": {},
   "outputs": [],
   "source": [
    "df = pd.read_excel(\"../data/test.xlsx\")"
   ]
  },
  {
   "cell_type": "markdown",
   "metadata": {},
   "source": [
    "1. Gesamtrüstzeit während einer Periode"
   ]
  },
  {
   "cell_type": "code",
   "execution_count": null,
   "metadata": {},
   "outputs": [],
   "source": [
    "dates = df['Production_date'].unique()\n",
    "machines = df['machine_id'].unique()\n",
    "df_setup_times = pd.DataFrame(columns=['machine_id', 'date', 'setup_time'])\n",
    "for date in dates:\n",
    "    for machine in machines:\n",
    "        df_day_machine = df[[df['date']==date and df['machine_id']==machine]]\n",
    "        overall_setup = df['Ruestzeit_Soll'].sum()\n",
    "        new_row = {'machine_id': machine,\n",
    "                       'date': date, 'setup_time': overall_setup}\n",
    "        df_setup_times = df_setup_times.append(new_row, ignore_index=True)\n"
   ]
  },
  {
   "cell_type": "markdown",
   "metadata": {},
   "source": [
    "2. Anzahl verspäteter Aufträge"
   ]
  },
  {
   "cell_type": "code",
   "execution_count": null,
   "metadata": {},
   "outputs": [],
   "source": [
    "tardy_jobs = df[[df['Production_date']>= df['LTermin']]].shape[0]"
   ]
  },
  {
   "cell_type": "markdown",
   "metadata": {},
   "source": [
    "3. Efficiency (Ergebnis/Aufwand)"
   ]
  },
  {
   "cell_type": "code",
   "execution_count": null,
   "metadata": {},
   "outputs": [],
   "source": [
    "dates = df['Production_date'].unique()\n",
    "machines = df['machine_id'].unique()\n",
    "df_efficiency = pd.DataFrame(columns=['machine_id', 'date', 'efficiency'])\n",
    "for date in dates:\n",
    "    for machine in machines:\n",
    "        df_day_machine = df[[df['date']==date and df['machine_id']==machine]]\n",
    "        overall_setup = df['Ruestzeit_Soll'].sum()\n",
    "        overall_runtime = df['Laufzeit_Soll'].sum()\n",
    "        new_row = {'machine_id': machine,\n",
    "                       'date': date, 'efficiency': overall_runtime/overall_setup}\n",
    "        df_efficiency = df_efficiency.append(new_row, ignore_index=True)"
   ]
  }
 ],
 "metadata": {
  "interpreter": {
   "hash": "0852e6fd3177313216e81e572521c7691f86b87e43d8cd70882ac72d172a5c8e"
  },
  "kernelspec": {
   "display_name": "Python 3.7.9 ('arise_lib_env')",
   "language": "python",
   "name": "python3"
  },
  "language_info": {
   "codemirror_mode": {
    "name": "ipython",
    "version": 3
   },
   "file_extension": ".py",
   "mimetype": "text/x-python",
   "name": "python",
   "nbconvert_exporter": "python",
   "pygments_lexer": "ipython3",
   "version": "3.7.9"
  },
  "orig_nbformat": 4
 },
 "nbformat": 4,
 "nbformat_minor": 2
}
