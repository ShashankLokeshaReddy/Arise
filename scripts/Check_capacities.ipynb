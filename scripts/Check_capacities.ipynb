{
 "cells": [
  {
   "cell_type": "code",
   "execution_count": 1,
   "metadata": {},
   "outputs": [],
   "source": [
    "import pandas as pd\n",
    "import numpy as np\n",
    "import datetime as datetime\n",
    "from arise_prototype import capacity_check as cc"
   ]
  },
  {
   "cell_type": "code",
   "execution_count": 2,
   "metadata": {},
   "outputs": [],
   "source": [
    "date_columns = ['DATUM', 'START', 'ENDE', 'P1_START', 'P1_ENDE', 'P2_START', 'P2_ENDE', 'P3_START', 'P3_ENDE']\n",
    "df_Schichtplan = pd.read_csv(\"../data/Kapazitätsplanung-20220121_Werksplanung.csv\", parse_dates=date_columns)\n",
    "date_columns = ['DATUM', 'MSTART', 'MENDE', 'MP1_START', 'MP1_ENDE', 'MP2_START', 'MP2_ENDE', 'MP3_START', 'MP3_ENDE']\n",
    "df_Maschinenplan = pd.read_csv(\"../data/Kapazitätsplanung-20220121_Maschinenplanung.csv\", parse_dates=date_columns)"
   ]
  },
  {
   "cell_type": "markdown",
   "metadata": {},
   "source": [
    "# Kalkulieren der Produktionsdaten"
   ]
  },
  {
   "cell_type": "code",
   "execution_count": 3,
   "metadata": {},
   "outputs": [],
   "source": [
    "# Daten laden\n",
    "df = pd.read_csv(\"../data/Auftragsfolgen-20211207.csv\")\n",
    "df['LTermin'] = pd.to_datetime(df['LTermin'], format='%Y-%m-%d %H:%M:%S')\n",
    "df['LTermin'] = df['LTermin'].dt.to_pydatetime()\n",
    "df = df[df['ID_Maschstatus']==1]\n",
    "df = df[['MaschNr', 'Laufzeit_Soll', 'LTermin', 'KndNr', 'Suchname', 'AKNR', 'ArtNr_Teil', 'TeilNr', 'SchrittNr']]\n",
    "df = df.drop_duplicates()\n",
    "start = '2021-05-15 00:00:00'\n",
    "end = '2021-05-20 00:00:00'\n",
    "mask = (df['LTermin']>=start) & (df['LTermin']<end)\n",
    "df = df.loc[mask]\n"
   ]
  },
  {
   "cell_type": "code",
   "execution_count": 4,
   "metadata": {
    "tags": []
   },
   "outputs": [
    {
     "output_type": "execute_result",
     "data": {
      "text/plain": "                          MaschNr  Laufzeit_Soll    LTermin  KndNr  \\\n78476   Handarbeit f. Handelsware              4 2021-05-17  14979   \n78483                        SL 5              9 2021-05-17  11722   \n78624   Handarbeit f. Handelsware             30 2021-05-17  11464   \n79084                  SL 9  ROTA             27 2021-05-18  10883   \n79107                  SL 9  ROTA             15 2021-05-18  10883   \n...                           ...            ...        ...    ...   \n511662                       SL 5             75 2021-05-17  12381   \n511669                       SL 5             10 2021-05-17  12403   \n511674                       SL 5             28 2021-05-17  12376   \n511691                       SL 5             40 2021-05-17  13074   \n513409                      SL 10             22 2021-05-17  11861   \n\n               Suchname    AKNR ArtNr_Teil  TeilNr  SchrittNr Production_date  \n78476            TVILUM  118145      29600       1          1      2021-05-14  \n78483           MUECHER  118205      20783       1          1      2021-05-14  \n78624   RS GUIDESYSTEMS  117933      31965       1          1      2021-05-14  \n79084             BETTE  117702      24502       1          1      2021-05-17  \n79107             BETTE  117704      24503       1          1      2021-05-17  \n...                 ...     ...        ...     ...        ...             ...  \n511662           LEFELD  118305      32445       1          1      2021-05-14  \n511669          KOETTER  117740      31681       1          1      2021-05-14  \n511674         GUNDLACH  119245      19929       1          1      2021-05-14  \n511691      KOECKERLING  118468      23918       1          1      2021-05-14  \n513409              FGI  118364      33359       1          1      2021-05-14  \n\n[197 rows x 10 columns]",
      "text/html": "<div>\n<style scoped>\n    .dataframe tbody tr th:only-of-type {\n        vertical-align: middle;\n    }\n\n    .dataframe tbody tr th {\n        vertical-align: top;\n    }\n\n    .dataframe thead th {\n        text-align: right;\n    }\n</style>\n<table border=\"1\" class=\"dataframe\">\n  <thead>\n    <tr style=\"text-align: right;\">\n      <th></th>\n      <th>MaschNr</th>\n      <th>Laufzeit_Soll</th>\n      <th>LTermin</th>\n      <th>KndNr</th>\n      <th>Suchname</th>\n      <th>AKNR</th>\n      <th>ArtNr_Teil</th>\n      <th>TeilNr</th>\n      <th>SchrittNr</th>\n      <th>Production_date</th>\n    </tr>\n  </thead>\n  <tbody>\n    <tr>\n      <th>78476</th>\n      <td>Handarbeit f. Handelsware</td>\n      <td>4</td>\n      <td>2021-05-17</td>\n      <td>14979</td>\n      <td>TVILUM</td>\n      <td>118145</td>\n      <td>29600</td>\n      <td>1</td>\n      <td>1</td>\n      <td>2021-05-14</td>\n    </tr>\n    <tr>\n      <th>78483</th>\n      <td>SL 5</td>\n      <td>9</td>\n      <td>2021-05-17</td>\n      <td>11722</td>\n      <td>MUECHER</td>\n      <td>118205</td>\n      <td>20783</td>\n      <td>1</td>\n      <td>1</td>\n      <td>2021-05-14</td>\n    </tr>\n    <tr>\n      <th>78624</th>\n      <td>Handarbeit f. Handelsware</td>\n      <td>30</td>\n      <td>2021-05-17</td>\n      <td>11464</td>\n      <td>RS GUIDESYSTEMS</td>\n      <td>117933</td>\n      <td>31965</td>\n      <td>1</td>\n      <td>1</td>\n      <td>2021-05-14</td>\n    </tr>\n    <tr>\n      <th>79084</th>\n      <td>SL 9  ROTA</td>\n      <td>27</td>\n      <td>2021-05-18</td>\n      <td>10883</td>\n      <td>BETTE</td>\n      <td>117702</td>\n      <td>24502</td>\n      <td>1</td>\n      <td>1</td>\n      <td>2021-05-17</td>\n    </tr>\n    <tr>\n      <th>79107</th>\n      <td>SL 9  ROTA</td>\n      <td>15</td>\n      <td>2021-05-18</td>\n      <td>10883</td>\n      <td>BETTE</td>\n      <td>117704</td>\n      <td>24503</td>\n      <td>1</td>\n      <td>1</td>\n      <td>2021-05-17</td>\n    </tr>\n    <tr>\n      <th>...</th>\n      <td>...</td>\n      <td>...</td>\n      <td>...</td>\n      <td>...</td>\n      <td>...</td>\n      <td>...</td>\n      <td>...</td>\n      <td>...</td>\n      <td>...</td>\n      <td>...</td>\n    </tr>\n    <tr>\n      <th>511662</th>\n      <td>SL 5</td>\n      <td>75</td>\n      <td>2021-05-17</td>\n      <td>12381</td>\n      <td>LEFELD</td>\n      <td>118305</td>\n      <td>32445</td>\n      <td>1</td>\n      <td>1</td>\n      <td>2021-05-14</td>\n    </tr>\n    <tr>\n      <th>511669</th>\n      <td>SL 5</td>\n      <td>10</td>\n      <td>2021-05-17</td>\n      <td>12403</td>\n      <td>KOETTER</td>\n      <td>117740</td>\n      <td>31681</td>\n      <td>1</td>\n      <td>1</td>\n      <td>2021-05-14</td>\n    </tr>\n    <tr>\n      <th>511674</th>\n      <td>SL 5</td>\n      <td>28</td>\n      <td>2021-05-17</td>\n      <td>12376</td>\n      <td>GUNDLACH</td>\n      <td>119245</td>\n      <td>19929</td>\n      <td>1</td>\n      <td>1</td>\n      <td>2021-05-14</td>\n    </tr>\n    <tr>\n      <th>511691</th>\n      <td>SL 5</td>\n      <td>40</td>\n      <td>2021-05-17</td>\n      <td>13074</td>\n      <td>KOECKERLING</td>\n      <td>118468</td>\n      <td>23918</td>\n      <td>1</td>\n      <td>1</td>\n      <td>2021-05-14</td>\n    </tr>\n    <tr>\n      <th>513409</th>\n      <td>SL 10</td>\n      <td>22</td>\n      <td>2021-05-17</td>\n      <td>11861</td>\n      <td>FGI</td>\n      <td>118364</td>\n      <td>33359</td>\n      <td>1</td>\n      <td>1</td>\n      <td>2021-05-14</td>\n    </tr>\n  </tbody>\n</table>\n<p>197 rows × 10 columns</p>\n</div>"
     },
     "metadata": {},
     "execution_count": 4
    }
   ],
   "source": [
    "df = cc.calculate_production_date(df, df_Schichtplan)\n",
    "df"
   ]
  },
  {
   "cell_type": "markdown",
   "metadata": {},
   "source": [
    "# Benötigte Kapazität für einen Tag"
   ]
  },
  {
   "cell_type": "code",
   "execution_count": 5,
   "metadata": {},
   "outputs": [
    {
     "output_type": "execute_result",
     "data": {
      "text/plain": "           MaschNr  Laufzeit_Soll    LTermin  KndNr     Suchname    AKNR  \\\n78483         SL 5              9 2021-05-17  11722      MUECHER  118205   \n79084   SL 9  ROTA             27 2021-05-18  10883        BETTE  117702   \n79107   SL 9  ROTA             15 2021-05-18  10883        BETTE  117704   \n130347   SL 2 Rota            780 2021-05-18  13907   CARTO RAAD  117096   \n130354        SL 2             54 2021-05-18  10495      KAIMANN  118322   \n...            ...            ...        ...    ...          ...     ...   \n511662        SL 5             75 2021-05-17  12381       LEFELD  118305   \n511669        SL 5             10 2021-05-17  12403      KOETTER  117740   \n511674        SL 5             28 2021-05-17  12376     GUNDLACH  119245   \n511691        SL 5             40 2021-05-17  13074  KOECKERLING  118468   \n513409       SL 10             22 2021-05-17  11861          FGI  118364   \n\n       ArtNr_Teil  TeilNr  SchrittNr Production_date machine machine_id  \n78483       20783       1          1      2021-05-14    SL 5          5  \n79084       24502       1          1      2021-05-17    SL 9          9  \n79107       24503       1          1      2021-05-17    SL 9          9  \n130347      19137       1          1      2021-05-17    SL 2          2  \n130354      10219       1          2      2021-05-17    SL 2          2  \n...           ...     ...        ...             ...     ...        ...  \n511662      32445       1          1      2021-05-14    SL 5          5  \n511669      31681       1          1      2021-05-14    SL 5          5  \n511674      19929       1          1      2021-05-14    SL 5          5  \n511691      23918       1          1      2021-05-14    SL 5          5  \n513409      33359       1          1      2021-05-14   SL 10         10  \n\n[144 rows x 12 columns]",
      "text/html": "<div>\n<style scoped>\n    .dataframe tbody tr th:only-of-type {\n        vertical-align: middle;\n    }\n\n    .dataframe tbody tr th {\n        vertical-align: top;\n    }\n\n    .dataframe thead th {\n        text-align: right;\n    }\n</style>\n<table border=\"1\" class=\"dataframe\">\n  <thead>\n    <tr style=\"text-align: right;\">\n      <th></th>\n      <th>MaschNr</th>\n      <th>Laufzeit_Soll</th>\n      <th>LTermin</th>\n      <th>KndNr</th>\n      <th>Suchname</th>\n      <th>AKNR</th>\n      <th>ArtNr_Teil</th>\n      <th>TeilNr</th>\n      <th>SchrittNr</th>\n      <th>Production_date</th>\n      <th>machine</th>\n      <th>machine_id</th>\n    </tr>\n  </thead>\n  <tbody>\n    <tr>\n      <th>78483</th>\n      <td>SL 5</td>\n      <td>9</td>\n      <td>2021-05-17</td>\n      <td>11722</td>\n      <td>MUECHER</td>\n      <td>118205</td>\n      <td>20783</td>\n      <td>1</td>\n      <td>1</td>\n      <td>2021-05-14</td>\n      <td>SL 5</td>\n      <td>5</td>\n    </tr>\n    <tr>\n      <th>79084</th>\n      <td>SL 9  ROTA</td>\n      <td>27</td>\n      <td>2021-05-18</td>\n      <td>10883</td>\n      <td>BETTE</td>\n      <td>117702</td>\n      <td>24502</td>\n      <td>1</td>\n      <td>1</td>\n      <td>2021-05-17</td>\n      <td>SL 9</td>\n      <td>9</td>\n    </tr>\n    <tr>\n      <th>79107</th>\n      <td>SL 9  ROTA</td>\n      <td>15</td>\n      <td>2021-05-18</td>\n      <td>10883</td>\n      <td>BETTE</td>\n      <td>117704</td>\n      <td>24503</td>\n      <td>1</td>\n      <td>1</td>\n      <td>2021-05-17</td>\n      <td>SL 9</td>\n      <td>9</td>\n    </tr>\n    <tr>\n      <th>130347</th>\n      <td>SL 2 Rota</td>\n      <td>780</td>\n      <td>2021-05-18</td>\n      <td>13907</td>\n      <td>CARTO RAAD</td>\n      <td>117096</td>\n      <td>19137</td>\n      <td>1</td>\n      <td>1</td>\n      <td>2021-05-17</td>\n      <td>SL 2</td>\n      <td>2</td>\n    </tr>\n    <tr>\n      <th>130354</th>\n      <td>SL 2</td>\n      <td>54</td>\n      <td>2021-05-18</td>\n      <td>10495</td>\n      <td>KAIMANN</td>\n      <td>118322</td>\n      <td>10219</td>\n      <td>1</td>\n      <td>2</td>\n      <td>2021-05-17</td>\n      <td>SL 2</td>\n      <td>2</td>\n    </tr>\n    <tr>\n      <th>...</th>\n      <td>...</td>\n      <td>...</td>\n      <td>...</td>\n      <td>...</td>\n      <td>...</td>\n      <td>...</td>\n      <td>...</td>\n      <td>...</td>\n      <td>...</td>\n      <td>...</td>\n      <td>...</td>\n      <td>...</td>\n    </tr>\n    <tr>\n      <th>511662</th>\n      <td>SL 5</td>\n      <td>75</td>\n      <td>2021-05-17</td>\n      <td>12381</td>\n      <td>LEFELD</td>\n      <td>118305</td>\n      <td>32445</td>\n      <td>1</td>\n      <td>1</td>\n      <td>2021-05-14</td>\n      <td>SL 5</td>\n      <td>5</td>\n    </tr>\n    <tr>\n      <th>511669</th>\n      <td>SL 5</td>\n      <td>10</td>\n      <td>2021-05-17</td>\n      <td>12403</td>\n      <td>KOETTER</td>\n      <td>117740</td>\n      <td>31681</td>\n      <td>1</td>\n      <td>1</td>\n      <td>2021-05-14</td>\n      <td>SL 5</td>\n      <td>5</td>\n    </tr>\n    <tr>\n      <th>511674</th>\n      <td>SL 5</td>\n      <td>28</td>\n      <td>2021-05-17</td>\n      <td>12376</td>\n      <td>GUNDLACH</td>\n      <td>119245</td>\n      <td>19929</td>\n      <td>1</td>\n      <td>1</td>\n      <td>2021-05-14</td>\n      <td>SL 5</td>\n      <td>5</td>\n    </tr>\n    <tr>\n      <th>511691</th>\n      <td>SL 5</td>\n      <td>40</td>\n      <td>2021-05-17</td>\n      <td>13074</td>\n      <td>KOECKERLING</td>\n      <td>118468</td>\n      <td>23918</td>\n      <td>1</td>\n      <td>1</td>\n      <td>2021-05-14</td>\n      <td>SL 5</td>\n      <td>5</td>\n    </tr>\n    <tr>\n      <th>513409</th>\n      <td>SL 10</td>\n      <td>22</td>\n      <td>2021-05-17</td>\n      <td>11861</td>\n      <td>FGI</td>\n      <td>118364</td>\n      <td>33359</td>\n      <td>1</td>\n      <td>1</td>\n      <td>2021-05-14</td>\n      <td>SL 10</td>\n      <td>10</td>\n    </tr>\n  </tbody>\n</table>\n<p>144 rows × 12 columns</p>\n</div>"
     },
     "metadata": {},
     "execution_count": 5
    }
   ],
   "source": [
    "df =  cc.parse_machine_number(df)\n",
    "df"
   ]
  },
  {
   "cell_type": "code",
   "execution_count": 6,
   "metadata": {
    "tags": []
   },
   "outputs": [
    {
     "output_type": "execute_result",
     "data": {
      "text/plain": "   machine_id       date workload\n0           5 2021-05-14      932\n1           9 2021-05-14      467\n2           2 2021-05-14      586\n3           4 2021-05-14      774\n4           8 2021-05-14      247\n5           6 2021-05-14     2931\n6          10 2021-05-14       75\n7           5 2021-05-17       22\n8           9 2021-05-17       79\n9           2 2021-05-17     1210\n10          4 2021-05-17      302\n11          8 2021-05-17      159\n12          6 2021-05-17      152\n13         10 2021-05-17       15\n14          5 2021-05-18      244\n15          9 2021-05-18      186\n16          2 2021-05-18       50\n17          4 2021-05-18       22\n18          8 2021-05-18      142\n19          6 2021-05-18      374\n20         10 2021-05-18       22",
      "text/html": "<div>\n<style scoped>\n    .dataframe tbody tr th:only-of-type {\n        vertical-align: middle;\n    }\n\n    .dataframe tbody tr th {\n        vertical-align: top;\n    }\n\n    .dataframe thead th {\n        text-align: right;\n    }\n</style>\n<table border=\"1\" class=\"dataframe\">\n  <thead>\n    <tr style=\"text-align: right;\">\n      <th></th>\n      <th>machine_id</th>\n      <th>date</th>\n      <th>workload</th>\n    </tr>\n  </thead>\n  <tbody>\n    <tr>\n      <th>0</th>\n      <td>5</td>\n      <td>2021-05-14</td>\n      <td>932</td>\n    </tr>\n    <tr>\n      <th>1</th>\n      <td>9</td>\n      <td>2021-05-14</td>\n      <td>467</td>\n    </tr>\n    <tr>\n      <th>2</th>\n      <td>2</td>\n      <td>2021-05-14</td>\n      <td>586</td>\n    </tr>\n    <tr>\n      <th>3</th>\n      <td>4</td>\n      <td>2021-05-14</td>\n      <td>774</td>\n    </tr>\n    <tr>\n      <th>4</th>\n      <td>8</td>\n      <td>2021-05-14</td>\n      <td>247</td>\n    </tr>\n    <tr>\n      <th>5</th>\n      <td>6</td>\n      <td>2021-05-14</td>\n      <td>2931</td>\n    </tr>\n    <tr>\n      <th>6</th>\n      <td>10</td>\n      <td>2021-05-14</td>\n      <td>75</td>\n    </tr>\n    <tr>\n      <th>7</th>\n      <td>5</td>\n      <td>2021-05-17</td>\n      <td>22</td>\n    </tr>\n    <tr>\n      <th>8</th>\n      <td>9</td>\n      <td>2021-05-17</td>\n      <td>79</td>\n    </tr>\n    <tr>\n      <th>9</th>\n      <td>2</td>\n      <td>2021-05-17</td>\n      <td>1210</td>\n    </tr>\n    <tr>\n      <th>10</th>\n      <td>4</td>\n      <td>2021-05-17</td>\n      <td>302</td>\n    </tr>\n    <tr>\n      <th>11</th>\n      <td>8</td>\n      <td>2021-05-17</td>\n      <td>159</td>\n    </tr>\n    <tr>\n      <th>12</th>\n      <td>6</td>\n      <td>2021-05-17</td>\n      <td>152</td>\n    </tr>\n    <tr>\n      <th>13</th>\n      <td>10</td>\n      <td>2021-05-17</td>\n      <td>15</td>\n    </tr>\n    <tr>\n      <th>14</th>\n      <td>5</td>\n      <td>2021-05-18</td>\n      <td>244</td>\n    </tr>\n    <tr>\n      <th>15</th>\n      <td>9</td>\n      <td>2021-05-18</td>\n      <td>186</td>\n    </tr>\n    <tr>\n      <th>16</th>\n      <td>2</td>\n      <td>2021-05-18</td>\n      <td>50</td>\n    </tr>\n    <tr>\n      <th>17</th>\n      <td>4</td>\n      <td>2021-05-18</td>\n      <td>22</td>\n    </tr>\n    <tr>\n      <th>18</th>\n      <td>8</td>\n      <td>2021-05-18</td>\n      <td>142</td>\n    </tr>\n    <tr>\n      <th>19</th>\n      <td>6</td>\n      <td>2021-05-18</td>\n      <td>374</td>\n    </tr>\n    <tr>\n      <th>20</th>\n      <td>10</td>\n      <td>2021-05-18</td>\n      <td>22</td>\n    </tr>\n  </tbody>\n</table>\n</div>"
     },
     "metadata": {},
     "execution_count": 6
    }
   ],
   "source": [
    "df_workload = cc.calculate_machine_workload(df)\n",
    "df_workload"
   ]
  },
  {
   "cell_type": "markdown",
   "metadata": {},
   "source": [
    "# Schichtplan und Maschinenplan laden "
   ]
  },
  {
   "cell_type": "code",
   "execution_count": 7,
   "metadata": {
    "tags": []
   },
   "outputs": [
    {
     "output_type": "stream",
     "name": "stdout",
     "text": "TODO: Check if date and machine combination is unique in            Maschinenschichten\n"
    },
    {
     "output_type": "execute_result",
     "data": {
      "text/plain": "   machine_id       date workload capacity\n0           5 2021-05-14      932      600\n1           9 2021-05-14      467      600\n2           2 2021-05-14      586      959\n3           4 2021-05-14      774      600\n4           8 2021-05-14      247      600\n5           6 2021-05-14     2931     1019\n6          10 2021-05-14       75      600\n7           5 2021-05-17       22      750\n8           9 2021-05-17       79      750\n9           2 2021-05-17     1210      750\n10          4 2021-05-17      302      750\n11          8 2021-05-17      159      750\n12          6 2021-05-17      152     1168\n13         10 2021-05-17       15     1079\n14          5 2021-05-18      244      750\n15          9 2021-05-18      186      750\n16          2 2021-05-18       50      750\n17          4 2021-05-18       22      750\n18          8 2021-05-18      142      750\n19          6 2021-05-18      374     1168\n20         10 2021-05-18       22     1079",
      "text/html": "<div>\n<style scoped>\n    .dataframe tbody tr th:only-of-type {\n        vertical-align: middle;\n    }\n\n    .dataframe tbody tr th {\n        vertical-align: top;\n    }\n\n    .dataframe thead th {\n        text-align: right;\n    }\n</style>\n<table border=\"1\" class=\"dataframe\">\n  <thead>\n    <tr style=\"text-align: right;\">\n      <th></th>\n      <th>machine_id</th>\n      <th>date</th>\n      <th>workload</th>\n      <th>capacity</th>\n    </tr>\n  </thead>\n  <tbody>\n    <tr>\n      <th>0</th>\n      <td>5</td>\n      <td>2021-05-14</td>\n      <td>932</td>\n      <td>600</td>\n    </tr>\n    <tr>\n      <th>1</th>\n      <td>9</td>\n      <td>2021-05-14</td>\n      <td>467</td>\n      <td>600</td>\n    </tr>\n    <tr>\n      <th>2</th>\n      <td>2</td>\n      <td>2021-05-14</td>\n      <td>586</td>\n      <td>959</td>\n    </tr>\n    <tr>\n      <th>3</th>\n      <td>4</td>\n      <td>2021-05-14</td>\n      <td>774</td>\n      <td>600</td>\n    </tr>\n    <tr>\n      <th>4</th>\n      <td>8</td>\n      <td>2021-05-14</td>\n      <td>247</td>\n      <td>600</td>\n    </tr>\n    <tr>\n      <th>5</th>\n      <td>6</td>\n      <td>2021-05-14</td>\n      <td>2931</td>\n      <td>1019</td>\n    </tr>\n    <tr>\n      <th>6</th>\n      <td>10</td>\n      <td>2021-05-14</td>\n      <td>75</td>\n      <td>600</td>\n    </tr>\n    <tr>\n      <th>7</th>\n      <td>5</td>\n      <td>2021-05-17</td>\n      <td>22</td>\n      <td>750</td>\n    </tr>\n    <tr>\n      <th>8</th>\n      <td>9</td>\n      <td>2021-05-17</td>\n      <td>79</td>\n      <td>750</td>\n    </tr>\n    <tr>\n      <th>9</th>\n      <td>2</td>\n      <td>2021-05-17</td>\n      <td>1210</td>\n      <td>750</td>\n    </tr>\n    <tr>\n      <th>10</th>\n      <td>4</td>\n      <td>2021-05-17</td>\n      <td>302</td>\n      <td>750</td>\n    </tr>\n    <tr>\n      <th>11</th>\n      <td>8</td>\n      <td>2021-05-17</td>\n      <td>159</td>\n      <td>750</td>\n    </tr>\n    <tr>\n      <th>12</th>\n      <td>6</td>\n      <td>2021-05-17</td>\n      <td>152</td>\n      <td>1168</td>\n    </tr>\n    <tr>\n      <th>13</th>\n      <td>10</td>\n      <td>2021-05-17</td>\n      <td>15</td>\n      <td>1079</td>\n    </tr>\n    <tr>\n      <th>14</th>\n      <td>5</td>\n      <td>2021-05-18</td>\n      <td>244</td>\n      <td>750</td>\n    </tr>\n    <tr>\n      <th>15</th>\n      <td>9</td>\n      <td>2021-05-18</td>\n      <td>186</td>\n      <td>750</td>\n    </tr>\n    <tr>\n      <th>16</th>\n      <td>2</td>\n      <td>2021-05-18</td>\n      <td>50</td>\n      <td>750</td>\n    </tr>\n    <tr>\n      <th>17</th>\n      <td>4</td>\n      <td>2021-05-18</td>\n      <td>22</td>\n      <td>750</td>\n    </tr>\n    <tr>\n      <th>18</th>\n      <td>8</td>\n      <td>2021-05-18</td>\n      <td>142</td>\n      <td>750</td>\n    </tr>\n    <tr>\n      <th>19</th>\n      <td>6</td>\n      <td>2021-05-18</td>\n      <td>374</td>\n      <td>1168</td>\n    </tr>\n    <tr>\n      <th>20</th>\n      <td>10</td>\n      <td>2021-05-18</td>\n      <td>22</td>\n      <td>1079</td>\n    </tr>\n  </tbody>\n</table>\n</div>"
     },
     "metadata": {},
     "execution_count": 7
    }
   ],
   "source": [
    "df_capacity = cc.get_capacity(df_workload['machine_id'].unique(), df_workload['date'].unique(), df_Schichtplan, df_Maschinenplan)\n",
    "df_workload_capacity = df_workload.merge(df_capacity, on=['machine_id', 'date'])\n",
    "df_workload_capacity"
   ]
  },
  {
   "cell_type": "markdown",
   "metadata": {},
   "source": [
    "# Vergleich der Kapazität mit der Produktionszeit"
   ]
  },
  {
   "cell_type": "code",
   "execution_count": 23,
   "metadata": {},
   "outputs": [],
   "source": [
    "def compare_capacity(df):\n",
    "    for index, row in df.iterrows():\n",
    "        if int(row['workload']) > int(row['capacity']):\n",
    "            print('Kapazität an SL ', row['machine_id'], ' am', row['date'], ' überschritten.')\n",
    "            print('Kapazität: ', row['capacity'])\n",
    "            print('Produktionszeit für geplante Aufträge: ', row['workload'])\n"
   ]
  },
  {
   "cell_type": "code",
   "execution_count": 24,
   "metadata": {
    "tags": []
   },
   "outputs": [
    {
     "output_type": "stream",
     "name": "stdout",
     "text": "Kapazität an SL  5  am 2021-05-14 00:00:00  überschritten.\nKapazität:  600\nProduktionszeit für geplante Aufträge:  932\nKapazität an SL  4  am 2021-05-14 00:00:00  überschritten.\nKapazität:  600\nProduktionszeit für geplante Aufträge:  774\nKapazität an SL  6  am 2021-05-14 00:00:00  überschritten.\nKapazität:  1019\nProduktionszeit für geplante Aufträge:  2931\nKapazität an SL  2  am 2021-05-17 00:00:00  überschritten.\nKapazität:  750\nProduktionszeit für geplante Aufträge:  1210\n"
    }
   ],
   "source": [
    "compare_capacity(df_workload_capacity)"
   ]
  },
  {
   "cell_type": "code",
   "execution_count": null,
   "metadata": {},
   "outputs": [],
   "source": []
  }
 ],
 "metadata": {
  "kernelspec": {
   "display_name": "arise_prototype_env",
   "language": "python",
   "name": "arise_prototype_env"
  },
  "language_info": {
   "codemirror_mode": {
    "name": "ipython",
    "version": 3
   },
   "file_extension": ".py",
   "mimetype": "text/x-python",
   "name": "python",
   "nbconvert_exporter": "python",
   "pygments_lexer": "ipython3",
   "version": "3.9.6-final"
  }
 },
 "nbformat": 4,
 "nbformat_minor": 4
}