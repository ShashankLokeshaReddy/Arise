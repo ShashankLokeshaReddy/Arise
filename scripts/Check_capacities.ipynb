{
 "cells": [
  {
   "cell_type": "code",
   "execution_count": 1,
   "metadata": {},
   "outputs": [],
   "source": [
    "import pandas as pd\n",
    "from arise_prototype import capacity_check as cc"
   ]
  },
  {
   "cell_type": "code",
   "execution_count": 2,
   "metadata": {},
   "outputs": [],
   "source": [
    "start = '2021-05-15 00:00:00'\n",
    "end = '2021-05-20 00:00:00'"
   ]
  },
  {
   "cell_type": "markdown",
   "metadata": {},
   "source": [
    "# Kalkulieren der Produktionsdaten"
   ]
  },
  {
   "cell_type": "code",
   "execution_count": 3,
   "metadata": {
    "tags": []
   },
   "outputs": [
    {
     "output_type": "stream",
     "name": "stdout",
     "text": "TODO: Check if date and machine combination is unique in            Maschinenschichten\n"
    },
    {
     "output_type": "execute_result",
     "data": {
      "text/plain": "        Unnamed: 0      Fefco_Teil ArtNr_Teil  ID_Druck  Druckflaeche  \\\n78483        78483          0201 G      20783         0           NaN   \n79084        79084         0110 ST      24502         1          0.15   \n79107        79107         0110 ST      24503         1          0.20   \n130347      130347      0201 G man      19137         1          0.10   \n130349      130349      0201 G man      19137         1          0.10   \n...            ...             ...        ...       ...           ...   \n511669      511669          0201 G      31681         1          0.10   \n511674      511674          0201 G      19929         0           NaN   \n511691      511691          0201 G      23918         1          0.02   \n513409      513409  0110 Flachbett      33359         1          0.10   \n513530      513530  0110 Flachbett      33359         1          0.10   \n\n        Bogen_Laenge_Brutto  Bogen_Breite_Brutto     MaschNr  \\\n78483                1247.0                360.0        SL 5   \n79084                1645.0               1045.0  SL 9  ROTA   \n79107                1630.0               1132.0  SL 9  ROTA   \n130347               2822.0                422.0   SL 2 Rota   \n130349               2822.0                422.0   SL 2 Rota   \n...                     ...                  ...         ...   \n511669               1069.0                373.0        SL 5   \n511674               1535.0                576.0        SL 5   \n511691               1423.0                404.0        SL 5   \n513409               1244.0                485.0       SL 10   \n513530               1244.0                485.0       SL 10   \n\n                      Start                 Ende  ...  TeilNr  SchrittNr  \\\n78483   2021-05-05 08:50:16  2021-05-05 08:50:24  ...       1          1   \n79084   2021-05-06 13:30:48  2021-05-06 13:42:29  ...       1          1   \n79107   2021-05-06 14:51:01  2021-05-06 15:19:15  ...       1          1   \n130347  2021-05-19 06:22:51  2021-05-19 06:27:40  ...       1          1   \n130349  2021-05-19 06:33:05  2021-05-19 06:50:08  ...       1          1   \n...                     ...                  ...  ...     ...        ...   \n511669  2021-05-10 17:26:15  2021-05-10 17:40:37  ...       1          1   \n511674  2021-05-10 17:51:22  2021-05-10 18:36:01  ...       1          1   \n511691  2021-05-10 20:43:51  2021-05-10 21:49:01  ...       1          1   \n513409  2021-05-26 06:16:08  2021-05-26 07:18:55  ...       1          1   \n513530  2021-05-25 12:33:11  2021-05-25 13:39:00  ...       1          1   \n\n        Summe_Minuten  ID_Maschstatus  Maschstatus  Lieferdatum_Rohmaterial  \\\n78483             0.0               1   Produktion      2021-05-07 00:00:00   \n79084            12.0               1   Produktion      2021-05-10 00:00:00   \n79107            28.0               1   Produktion      2021-05-10 00:00:00   \n130347            5.0               1   Produktion      2021-05-12 00:00:00   \n130349           17.0               1   Produktion      2021-05-12 00:00:00   \n...               ...             ...          ...                      ...   \n511669           14.0               1   Produktion      2021-05-06 00:00:00   \n511674           45.0               1   Produktion      2021-05-06 00:00:00   \n511691           66.0               1   Produktion      2021-05-11 00:00:00   \n513409           62.0               1   Produktion      2021-05-11 00:00:00   \n513530           66.0               1   Produktion      2021-05-11 00:00:00   \n\n        BE_Erledigt  Production_date  machine  machine_id  \n78483           1.0       2021-05-14     SL 5           5  \n79084           1.0       2021-05-17     SL 9           9  \n79107           1.0       2021-05-17     SL 9           9  \n130347          1.0       2021-05-17     SL 2           2  \n130349          1.0       2021-05-17     SL 2           2  \n...             ...              ...      ...         ...  \n511669          1.0       2021-05-14     SL 5           5  \n511674          1.0       2021-05-14     SL 5           5  \n511691          1.0       2021-05-14     SL 5           5  \n513409          1.0       2021-05-14    SL 10          10  \n513530          1.0       2021-05-14    SL 10          10  \n\n[252 rows x 35 columns]",
      "text/html": "<div>\n<style scoped>\n    .dataframe tbody tr th:only-of-type {\n        vertical-align: middle;\n    }\n\n    .dataframe tbody tr th {\n        vertical-align: top;\n    }\n\n    .dataframe thead th {\n        text-align: right;\n    }\n</style>\n<table border=\"1\" class=\"dataframe\">\n  <thead>\n    <tr style=\"text-align: right;\">\n      <th></th>\n      <th>Unnamed: 0</th>\n      <th>Fefco_Teil</th>\n      <th>ArtNr_Teil</th>\n      <th>ID_Druck</th>\n      <th>Druckflaeche</th>\n      <th>Bogen_Laenge_Brutto</th>\n      <th>Bogen_Breite_Brutto</th>\n      <th>MaschNr</th>\n      <th>Start</th>\n      <th>Ende</th>\n      <th>...</th>\n      <th>TeilNr</th>\n      <th>SchrittNr</th>\n      <th>Summe_Minuten</th>\n      <th>ID_Maschstatus</th>\n      <th>Maschstatus</th>\n      <th>Lieferdatum_Rohmaterial</th>\n      <th>BE_Erledigt</th>\n      <th>Production_date</th>\n      <th>machine</th>\n      <th>machine_id</th>\n    </tr>\n  </thead>\n  <tbody>\n    <tr>\n      <th>78483</th>\n      <td>78483</td>\n      <td>0201 G</td>\n      <td>20783</td>\n      <td>0</td>\n      <td>NaN</td>\n      <td>1247.0</td>\n      <td>360.0</td>\n      <td>SL 5</td>\n      <td>2021-05-05 08:50:16</td>\n      <td>2021-05-05 08:50:24</td>\n      <td>...</td>\n      <td>1</td>\n      <td>1</td>\n      <td>0.0</td>\n      <td>1</td>\n      <td>Produktion</td>\n      <td>2021-05-07 00:00:00</td>\n      <td>1.0</td>\n      <td>2021-05-14</td>\n      <td>SL 5</td>\n      <td>5</td>\n    </tr>\n    <tr>\n      <th>79084</th>\n      <td>79084</td>\n      <td>0110 ST</td>\n      <td>24502</td>\n      <td>1</td>\n      <td>0.15</td>\n      <td>1645.0</td>\n      <td>1045.0</td>\n      <td>SL 9  ROTA</td>\n      <td>2021-05-06 13:30:48</td>\n      <td>2021-05-06 13:42:29</td>\n      <td>...</td>\n      <td>1</td>\n      <td>1</td>\n      <td>12.0</td>\n      <td>1</td>\n      <td>Produktion</td>\n      <td>2021-05-10 00:00:00</td>\n      <td>1.0</td>\n      <td>2021-05-17</td>\n      <td>SL 9</td>\n      <td>9</td>\n    </tr>\n    <tr>\n      <th>79107</th>\n      <td>79107</td>\n      <td>0110 ST</td>\n      <td>24503</td>\n      <td>1</td>\n      <td>0.20</td>\n      <td>1630.0</td>\n      <td>1132.0</td>\n      <td>SL 9  ROTA</td>\n      <td>2021-05-06 14:51:01</td>\n      <td>2021-05-06 15:19:15</td>\n      <td>...</td>\n      <td>1</td>\n      <td>1</td>\n      <td>28.0</td>\n      <td>1</td>\n      <td>Produktion</td>\n      <td>2021-05-10 00:00:00</td>\n      <td>1.0</td>\n      <td>2021-05-17</td>\n      <td>SL 9</td>\n      <td>9</td>\n    </tr>\n    <tr>\n      <th>130347</th>\n      <td>130347</td>\n      <td>0201 G man</td>\n      <td>19137</td>\n      <td>1</td>\n      <td>0.10</td>\n      <td>2822.0</td>\n      <td>422.0</td>\n      <td>SL 2 Rota</td>\n      <td>2021-05-19 06:22:51</td>\n      <td>2021-05-19 06:27:40</td>\n      <td>...</td>\n      <td>1</td>\n      <td>1</td>\n      <td>5.0</td>\n      <td>1</td>\n      <td>Produktion</td>\n      <td>2021-05-12 00:00:00</td>\n      <td>1.0</td>\n      <td>2021-05-17</td>\n      <td>SL 2</td>\n      <td>2</td>\n    </tr>\n    <tr>\n      <th>130349</th>\n      <td>130349</td>\n      <td>0201 G man</td>\n      <td>19137</td>\n      <td>1</td>\n      <td>0.10</td>\n      <td>2822.0</td>\n      <td>422.0</td>\n      <td>SL 2 Rota</td>\n      <td>2021-05-19 06:33:05</td>\n      <td>2021-05-19 06:50:08</td>\n      <td>...</td>\n      <td>1</td>\n      <td>1</td>\n      <td>17.0</td>\n      <td>1</td>\n      <td>Produktion</td>\n      <td>2021-05-12 00:00:00</td>\n      <td>1.0</td>\n      <td>2021-05-17</td>\n      <td>SL 2</td>\n      <td>2</td>\n    </tr>\n    <tr>\n      <th>...</th>\n      <td>...</td>\n      <td>...</td>\n      <td>...</td>\n      <td>...</td>\n      <td>...</td>\n      <td>...</td>\n      <td>...</td>\n      <td>...</td>\n      <td>...</td>\n      <td>...</td>\n      <td>...</td>\n      <td>...</td>\n      <td>...</td>\n      <td>...</td>\n      <td>...</td>\n      <td>...</td>\n      <td>...</td>\n      <td>...</td>\n      <td>...</td>\n      <td>...</td>\n      <td>...</td>\n    </tr>\n    <tr>\n      <th>511669</th>\n      <td>511669</td>\n      <td>0201 G</td>\n      <td>31681</td>\n      <td>1</td>\n      <td>0.10</td>\n      <td>1069.0</td>\n      <td>373.0</td>\n      <td>SL 5</td>\n      <td>2021-05-10 17:26:15</td>\n      <td>2021-05-10 17:40:37</td>\n      <td>...</td>\n      <td>1</td>\n      <td>1</td>\n      <td>14.0</td>\n      <td>1</td>\n      <td>Produktion</td>\n      <td>2021-05-06 00:00:00</td>\n      <td>1.0</td>\n      <td>2021-05-14</td>\n      <td>SL 5</td>\n      <td>5</td>\n    </tr>\n    <tr>\n      <th>511674</th>\n      <td>511674</td>\n      <td>0201 G</td>\n      <td>19929</td>\n      <td>0</td>\n      <td>NaN</td>\n      <td>1535.0</td>\n      <td>576.0</td>\n      <td>SL 5</td>\n      <td>2021-05-10 17:51:22</td>\n      <td>2021-05-10 18:36:01</td>\n      <td>...</td>\n      <td>1</td>\n      <td>1</td>\n      <td>45.0</td>\n      <td>1</td>\n      <td>Produktion</td>\n      <td>2021-05-06 00:00:00</td>\n      <td>1.0</td>\n      <td>2021-05-14</td>\n      <td>SL 5</td>\n      <td>5</td>\n    </tr>\n    <tr>\n      <th>511691</th>\n      <td>511691</td>\n      <td>0201 G</td>\n      <td>23918</td>\n      <td>1</td>\n      <td>0.02</td>\n      <td>1423.0</td>\n      <td>404.0</td>\n      <td>SL 5</td>\n      <td>2021-05-10 20:43:51</td>\n      <td>2021-05-10 21:49:01</td>\n      <td>...</td>\n      <td>1</td>\n      <td>1</td>\n      <td>66.0</td>\n      <td>1</td>\n      <td>Produktion</td>\n      <td>2021-05-11 00:00:00</td>\n      <td>1.0</td>\n      <td>2021-05-14</td>\n      <td>SL 5</td>\n      <td>5</td>\n    </tr>\n    <tr>\n      <th>513409</th>\n      <td>513409</td>\n      <td>0110 Flachbett</td>\n      <td>33359</td>\n      <td>1</td>\n      <td>0.10</td>\n      <td>1244.0</td>\n      <td>485.0</td>\n      <td>SL 10</td>\n      <td>2021-05-26 06:16:08</td>\n      <td>2021-05-26 07:18:55</td>\n      <td>...</td>\n      <td>1</td>\n      <td>1</td>\n      <td>62.0</td>\n      <td>1</td>\n      <td>Produktion</td>\n      <td>2021-05-11 00:00:00</td>\n      <td>1.0</td>\n      <td>2021-05-14</td>\n      <td>SL 10</td>\n      <td>10</td>\n    </tr>\n    <tr>\n      <th>513530</th>\n      <td>513530</td>\n      <td>0110 Flachbett</td>\n      <td>33359</td>\n      <td>1</td>\n      <td>0.10</td>\n      <td>1244.0</td>\n      <td>485.0</td>\n      <td>SL 10</td>\n      <td>2021-05-25 12:33:11</td>\n      <td>2021-05-25 13:39:00</td>\n      <td>...</td>\n      <td>1</td>\n      <td>1</td>\n      <td>66.0</td>\n      <td>1</td>\n      <td>Produktion</td>\n      <td>2021-05-11 00:00:00</td>\n      <td>1.0</td>\n      <td>2021-05-14</td>\n      <td>SL 10</td>\n      <td>10</td>\n    </tr>\n  </tbody>\n</table>\n<p>252 rows × 35 columns</p>\n</div>"
     },
     "metadata": {},
     "execution_count": 3
    }
   ],
   "source": [
    "\n",
    "df, df_workload_capacity = cc.run_capacity_check(start, end)\n",
    "df\n"
   ]
  },
  {
   "cell_type": "code",
   "execution_count": 4,
   "metadata": {
    "tags": []
   },
   "outputs": [
    {
     "output_type": "stream",
     "name": "stdout",
     "text": "TODO: Check if date and machine combination is unique in            Maschinenschichten\n"
    },
    {
     "output_type": "execute_result",
     "data": {
      "text/plain": "           MaschNr  Laufzeit_Soll    LTermin  KndNr     Suchname    AKNR  \\\n78483         SL 5              9 2021-05-17  11722      MUECHER  118205   \n79084   SL 9  ROTA             27 2021-05-18  10883        BETTE  117702   \n79107   SL 9  ROTA             15 2021-05-18  10883        BETTE  117704   \n130347   SL 2 Rota            780 2021-05-18  13907   CARTO RAAD  117096   \n130354        SL 2             54 2021-05-18  10495      KAIMANN  118322   \n...            ...            ...        ...    ...          ...     ...   \n511662        SL 5             75 2021-05-17  12381       LEFELD  118305   \n511669        SL 5             10 2021-05-17  12403      KOETTER  117740   \n511674        SL 5             28 2021-05-17  12376     GUNDLACH  119245   \n511691        SL 5             40 2021-05-17  13074  KOECKERLING  118468   \n513409       SL 10             22 2021-05-17  11861          FGI  118364   \n\n       ArtNr_Teil  TeilNr  SchrittNr Production_date machine machine_id  \n78483       20783       1          1      2021-05-14    SL 5          5  \n79084       24502       1          1      2021-05-17    SL 9          9  \n79107       24503       1          1      2021-05-17    SL 9          9  \n130347      19137       1          1      2021-05-17    SL 2          2  \n130354      10219       1          2      2021-05-17    SL 2          2  \n...           ...     ...        ...             ...     ...        ...  \n511662      32445       1          1      2021-05-14    SL 5          5  \n511669      31681       1          1      2021-05-14    SL 5          5  \n511674      19929       1          1      2021-05-14    SL 5          5  \n511691      23918       1          1      2021-05-14    SL 5          5  \n513409      33359       1          1      2021-05-14   SL 10         10  \n\n[144 rows x 12 columns]",
      "text/html": "<div>\n<style scoped>\n    .dataframe tbody tr th:only-of-type {\n        vertical-align: middle;\n    }\n\n    .dataframe tbody tr th {\n        vertical-align: top;\n    }\n\n    .dataframe thead th {\n        text-align: right;\n    }\n</style>\n<table border=\"1\" class=\"dataframe\">\n  <thead>\n    <tr style=\"text-align: right;\">\n      <th></th>\n      <th>MaschNr</th>\n      <th>Laufzeit_Soll</th>\n      <th>LTermin</th>\n      <th>KndNr</th>\n      <th>Suchname</th>\n      <th>AKNR</th>\n      <th>ArtNr_Teil</th>\n      <th>TeilNr</th>\n      <th>SchrittNr</th>\n      <th>Production_date</th>\n      <th>machine</th>\n      <th>machine_id</th>\n    </tr>\n  </thead>\n  <tbody>\n    <tr>\n      <th>78483</th>\n      <td>SL 5</td>\n      <td>9</td>\n      <td>2021-05-17</td>\n      <td>11722</td>\n      <td>MUECHER</td>\n      <td>118205</td>\n      <td>20783</td>\n      <td>1</td>\n      <td>1</td>\n      <td>2021-05-14</td>\n      <td>SL 5</td>\n      <td>5</td>\n    </tr>\n    <tr>\n      <th>79084</th>\n      <td>SL 9  ROTA</td>\n      <td>27</td>\n      <td>2021-05-18</td>\n      <td>10883</td>\n      <td>BETTE</td>\n      <td>117702</td>\n      <td>24502</td>\n      <td>1</td>\n      <td>1</td>\n      <td>2021-05-17</td>\n      <td>SL 9</td>\n      <td>9</td>\n    </tr>\n    <tr>\n      <th>79107</th>\n      <td>SL 9  ROTA</td>\n      <td>15</td>\n      <td>2021-05-18</td>\n      <td>10883</td>\n      <td>BETTE</td>\n      <td>117704</td>\n      <td>24503</td>\n      <td>1</td>\n      <td>1</td>\n      <td>2021-05-17</td>\n      <td>SL 9</td>\n      <td>9</td>\n    </tr>\n    <tr>\n      <th>130347</th>\n      <td>SL 2 Rota</td>\n      <td>780</td>\n      <td>2021-05-18</td>\n      <td>13907</td>\n      <td>CARTO RAAD</td>\n      <td>117096</td>\n      <td>19137</td>\n      <td>1</td>\n      <td>1</td>\n      <td>2021-05-17</td>\n      <td>SL 2</td>\n      <td>2</td>\n    </tr>\n    <tr>\n      <th>130354</th>\n      <td>SL 2</td>\n      <td>54</td>\n      <td>2021-05-18</td>\n      <td>10495</td>\n      <td>KAIMANN</td>\n      <td>118322</td>\n      <td>10219</td>\n      <td>1</td>\n      <td>2</td>\n      <td>2021-05-17</td>\n      <td>SL 2</td>\n      <td>2</td>\n    </tr>\n    <tr>\n      <th>...</th>\n      <td>...</td>\n      <td>...</td>\n      <td>...</td>\n      <td>...</td>\n      <td>...</td>\n      <td>...</td>\n      <td>...</td>\n      <td>...</td>\n      <td>...</td>\n      <td>...</td>\n      <td>...</td>\n      <td>...</td>\n    </tr>\n    <tr>\n      <th>511662</th>\n      <td>SL 5</td>\n      <td>75</td>\n      <td>2021-05-17</td>\n      <td>12381</td>\n      <td>LEFELD</td>\n      <td>118305</td>\n      <td>32445</td>\n      <td>1</td>\n      <td>1</td>\n      <td>2021-05-14</td>\n      <td>SL 5</td>\n      <td>5</td>\n    </tr>\n    <tr>\n      <th>511669</th>\n      <td>SL 5</td>\n      <td>10</td>\n      <td>2021-05-17</td>\n      <td>12403</td>\n      <td>KOETTER</td>\n      <td>117740</td>\n      <td>31681</td>\n      <td>1</td>\n      <td>1</td>\n      <td>2021-05-14</td>\n      <td>SL 5</td>\n      <td>5</td>\n    </tr>\n    <tr>\n      <th>511674</th>\n      <td>SL 5</td>\n      <td>28</td>\n      <td>2021-05-17</td>\n      <td>12376</td>\n      <td>GUNDLACH</td>\n      <td>119245</td>\n      <td>19929</td>\n      <td>1</td>\n      <td>1</td>\n      <td>2021-05-14</td>\n      <td>SL 5</td>\n      <td>5</td>\n    </tr>\n    <tr>\n      <th>511691</th>\n      <td>SL 5</td>\n      <td>40</td>\n      <td>2021-05-17</td>\n      <td>13074</td>\n      <td>KOECKERLING</td>\n      <td>118468</td>\n      <td>23918</td>\n      <td>1</td>\n      <td>1</td>\n      <td>2021-05-14</td>\n      <td>SL 5</td>\n      <td>5</td>\n    </tr>\n    <tr>\n      <th>513409</th>\n      <td>SL 10</td>\n      <td>22</td>\n      <td>2021-05-17</td>\n      <td>11861</td>\n      <td>FGI</td>\n      <td>118364</td>\n      <td>33359</td>\n      <td>1</td>\n      <td>1</td>\n      <td>2021-05-14</td>\n      <td>SL 10</td>\n      <td>10</td>\n    </tr>\n  </tbody>\n</table>\n<p>144 rows × 12 columns</p>\n</div>"
     },
     "metadata": {},
     "execution_count": 4
    }
   ],
   "source": []
  },
  {
   "cell_type": "code",
   "execution_count": 4,
   "metadata": {},
   "outputs": [
    {
     "output_type": "execute_result",
     "data": {
      "text/plain": "   machine_id       date workload capacity\n0           5 2021-05-14     2431      600\n1           9 2021-05-14     1089      600\n2           2 2021-05-14      959      959\n3           4 2021-05-14     1247      600\n4           8 2021-05-14      561      600\n5           6 2021-05-14    20262     1019\n6          10 2021-05-14      142      600\n7           5 2021-05-17       28      750\n8           9 2021-05-17       79      750\n9           2 2021-05-17    12144      750\n10          4 2021-05-17      302      750\n11          8 2021-05-17      738      750\n12          6 2021-05-17      212     1168\n13         10 2021-05-17       15     1079\n14          5 2021-05-18      351      750\n15          9 2021-05-18      200      750\n16          2 2021-05-18       68      750\n17          4 2021-05-18       22      750\n18          8 2021-05-18      284      750\n19          6 2021-05-18     1245     1168\n20         10 2021-05-18       22     1079",
      "text/html": "<div>\n<style scoped>\n    .dataframe tbody tr th:only-of-type {\n        vertical-align: middle;\n    }\n\n    .dataframe tbody tr th {\n        vertical-align: top;\n    }\n\n    .dataframe thead th {\n        text-align: right;\n    }\n</style>\n<table border=\"1\" class=\"dataframe\">\n  <thead>\n    <tr style=\"text-align: right;\">\n      <th></th>\n      <th>machine_id</th>\n      <th>date</th>\n      <th>workload</th>\n      <th>capacity</th>\n    </tr>\n  </thead>\n  <tbody>\n    <tr>\n      <th>0</th>\n      <td>5</td>\n      <td>2021-05-14</td>\n      <td>2431</td>\n      <td>600</td>\n    </tr>\n    <tr>\n      <th>1</th>\n      <td>9</td>\n      <td>2021-05-14</td>\n      <td>1089</td>\n      <td>600</td>\n    </tr>\n    <tr>\n      <th>2</th>\n      <td>2</td>\n      <td>2021-05-14</td>\n      <td>959</td>\n      <td>959</td>\n    </tr>\n    <tr>\n      <th>3</th>\n      <td>4</td>\n      <td>2021-05-14</td>\n      <td>1247</td>\n      <td>600</td>\n    </tr>\n    <tr>\n      <th>4</th>\n      <td>8</td>\n      <td>2021-05-14</td>\n      <td>561</td>\n      <td>600</td>\n    </tr>\n    <tr>\n      <th>5</th>\n      <td>6</td>\n      <td>2021-05-14</td>\n      <td>20262</td>\n      <td>1019</td>\n    </tr>\n    <tr>\n      <th>6</th>\n      <td>10</td>\n      <td>2021-05-14</td>\n      <td>142</td>\n      <td>600</td>\n    </tr>\n    <tr>\n      <th>7</th>\n      <td>5</td>\n      <td>2021-05-17</td>\n      <td>28</td>\n      <td>750</td>\n    </tr>\n    <tr>\n      <th>8</th>\n      <td>9</td>\n      <td>2021-05-17</td>\n      <td>79</td>\n      <td>750</td>\n    </tr>\n    <tr>\n      <th>9</th>\n      <td>2</td>\n      <td>2021-05-17</td>\n      <td>12144</td>\n      <td>750</td>\n    </tr>\n    <tr>\n      <th>10</th>\n      <td>4</td>\n      <td>2021-05-17</td>\n      <td>302</td>\n      <td>750</td>\n    </tr>\n    <tr>\n      <th>11</th>\n      <td>8</td>\n      <td>2021-05-17</td>\n      <td>738</td>\n      <td>750</td>\n    </tr>\n    <tr>\n      <th>12</th>\n      <td>6</td>\n      <td>2021-05-17</td>\n      <td>212</td>\n      <td>1168</td>\n    </tr>\n    <tr>\n      <th>13</th>\n      <td>10</td>\n      <td>2021-05-17</td>\n      <td>15</td>\n      <td>1079</td>\n    </tr>\n    <tr>\n      <th>14</th>\n      <td>5</td>\n      <td>2021-05-18</td>\n      <td>351</td>\n      <td>750</td>\n    </tr>\n    <tr>\n      <th>15</th>\n      <td>9</td>\n      <td>2021-05-18</td>\n      <td>200</td>\n      <td>750</td>\n    </tr>\n    <tr>\n      <th>16</th>\n      <td>2</td>\n      <td>2021-05-18</td>\n      <td>68</td>\n      <td>750</td>\n    </tr>\n    <tr>\n      <th>17</th>\n      <td>4</td>\n      <td>2021-05-18</td>\n      <td>22</td>\n      <td>750</td>\n    </tr>\n    <tr>\n      <th>18</th>\n      <td>8</td>\n      <td>2021-05-18</td>\n      <td>284</td>\n      <td>750</td>\n    </tr>\n    <tr>\n      <th>19</th>\n      <td>6</td>\n      <td>2021-05-18</td>\n      <td>1245</td>\n      <td>1168</td>\n    </tr>\n    <tr>\n      <th>20</th>\n      <td>10</td>\n      <td>2021-05-18</td>\n      <td>22</td>\n      <td>1079</td>\n    </tr>\n  </tbody>\n</table>\n</div>"
     },
     "metadata": {},
     "execution_count": 4
    }
   ],
   "source": [
    "df_workload_capacity"
   ]
  },
  {
   "cell_type": "markdown",
   "metadata": {},
   "source": [
    "# Vergleich der Kapazität mit der Produktionszeit"
   ]
  },
  {
   "cell_type": "code",
   "execution_count": 5,
   "metadata": {},
   "outputs": [],
   "source": [
    "def compare_capacity(df):\n",
    "    for index, row in df.iterrows():\n",
    "        if int(row['workload']) > int(row['capacity']):\n",
    "            print('Kapazität an SL ', row['machine_id'], ' am', row['date'], ' überschritten.')\n",
    "            print('Kapazität: ', row['capacity'])\n",
    "            print('Produktionszeit für geplante Aufträge: ', row['workload'])\n"
   ]
  },
  {
   "cell_type": "code",
   "execution_count": 6,
   "metadata": {
    "tags": []
   },
   "outputs": [
    {
     "output_type": "stream",
     "name": "stdout",
     "text": "Kapazität an SL  5  am 2021-05-14 00:00:00  überschritten.\nKapazität:  600\nProduktionszeit für geplante Aufträge:  2431\nKapazität an SL  9  am 2021-05-14 00:00:00  überschritten.\nKapazität:  600\nProduktionszeit für geplante Aufträge:  1089\nKapazität an SL  4  am 2021-05-14 00:00:00  überschritten.\nKapazität:  600\nProduktionszeit für geplante Aufträge:  1247\nKapazität an SL  6  am 2021-05-14 00:00:00  überschritten.\nKapazität:  1019\nProduktionszeit für geplante Aufträge:  20262\nKapazität an SL  2  am 2021-05-17 00:00:00  überschritten.\nKapazität:  750\nProduktionszeit für geplante Aufträge:  12144\nKapazität an SL  6  am 2021-05-18 00:00:00  überschritten.\nKapazität:  1168\nProduktionszeit für geplante Aufträge:  1245\n"
    }
   ],
   "source": [
    "compare_capacity(df_workload_capacity)"
   ]
  },
  {
   "cell_type": "code",
   "execution_count": null,
   "metadata": {},
   "outputs": [],
   "source": []
  }
 ],
 "metadata": {
  "kernelspec": {
   "display_name": "arise_prototype_env",
   "language": "python",
   "name": "arise_prototype_env"
  },
  "language_info": {
   "codemirror_mode": {
    "name": "ipython",
    "version": 3
   },
   "file_extension": ".py",
   "mimetype": "text/x-python",
   "name": "python",
   "nbconvert_exporter": "python",
   "pygments_lexer": "ipython3",
   "version": "3.8.12-final"
  }
 },
 "nbformat": 4,
 "nbformat_minor": 4
}