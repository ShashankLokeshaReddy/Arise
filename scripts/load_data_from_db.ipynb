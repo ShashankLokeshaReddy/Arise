{
 "cells": [
  {
   "cell_type": "markdown",
   "metadata": {},
   "source": [
    "# Script to test connection to database"
   ]
  },
  {
   "cell_type": "code",
   "execution_count": null,
   "metadata": {},
   "outputs": [],
   "source": [
    "import pyodbc\n",
    "import pandas as pd\n",
    "\n",
    "def load_table_from_db(server, database, username, password, sql_query):\n",
    "    cnxn = pyodbc.connect('DRIVER={ODBC Driver 17 for SQL Server};SERVER=server;\n",
    "                          DATABASE = database;UID=username;PWD=password')\n",
    "    cursor = cnxn.cursor()\n",
    "    cursor.execute(sql_query)\n",
    "    rows = cursor.fetchall()\n",
    "    cnxn.close()\n",
    "    df = pd.DataFrame(rows)\n",
    "    return df\n",
    "\n",
    "def load_orders_from_db(server, database, username, password):\n",
    "    sql_query = \"\"\"\n",
    "        select t3.Fefco_Teil, t3.ArtNr_Teil, t3.ID_Druck, t3.Bogen_Laenge_Brutto, \n",
    "            t3.Bogen_Breite_Brutto, t1.MaschNr, t1.Ruestzeit_Soll, t1.Laufzeit_Soll,\n",
    "            t1.Zeit_Soll, t3.Werkzeug_Nutzen, t3.Bestell_Nutzen, t1.Menge_Soll, \n",
    "            t3.Bemerkung, t2.LTermin , t2.KndNr, t4.Suchname, t1.AKNR, t1.TeilNr, t1.SchrittNr, \n",
    "            t7.Lieferdatum as Lieferdatum_Rohmaterial, t7.BE_Erledigt\n",
    "        from tbl_Produktion_Fertigungsschritte t1 inner join\n",
    "            tbl_Produktion t2 ON t1.AKNR = t2.AKNr inner join\n",
    "            tbl_Produktion_Teil t3 ON t1.AKNR = t3.AKNR inner join\n",
    "            tbl_Kunden t4 on t2.KndNr = t4.KndNr inner join\n",
    "            tbl_Maschine_AK_Zeiten t5 on t1.AKNR = t5.AKNR and t1.TEILNR = t5.TEILNR and t1.ID_MaschNr = t5.MaschNr inner join\n",
    "            tbl_Maschine_Status t6 on t5.ID_Maschstatus = t6.ID_Maschstatus left outer join\n",
    "            tbl_Bestellung_Kopf t7 on t3.BESTNR = t7.BENR\n",
    "        where SchrittNr <> 0 and ID_MaschNr <> 1 and BE_Erledigt == 0\"\"\"\n",
    "    df = load_table_from_db(server, database, username, password, sql_query)\n",
    "    return df\n",
    "\n",
    "def load_werksplan_from_db(server, database, username, password, start_date, end_date):\n",
    "    sql_query = \"\"\"\n",
    "        select tbl_Produktion_Planung.DATUM, tbl_Produktion_Planung.JAHR, tbl_Produktion_Planung.MONAT, tbl_Produktion_Planung.KW, \n",
    "            tbl_Produktion_Planung.TAG, tbl_Produktion_Planung.WOCHENTAG, tbl_Produktion_Planung.START, tbl_Produktion_Planung.ENDE, \n",
    "            tbl_Produktion_Planung.P1_START, tbl_Produktion_Planung.P1_ENDE, tbl_Produktion_Planung.P2_START, tbl_Produktion_Planung.P2_ENDE, \n",
    "            tbl_Produktion_Planung.P3_START, tbl_Produktion_Planung.P3_ENDE, tbl_Produktion_Planung.ARBEITSZEIT_MIN, tbl_Produktion_Planung.FEIERTAG\n",
    "        from schulte.dbo.tbl_Produktion_Planung tbl_Produktion_Planung\n",
    "        where DATUM >= {start} and DATUM <= {end}\"\"\".format(start=start_date, end=end_date)\n",
    "    df = load_table_from_db(server, database, username, password, sql_query)\n",
    "    return df\n",
    "\n",
    "def load_maschinenplanung_from_db(server, database, username, password, start_date, end_date):\n",
    "    sql_query = \"\"\"\n",
    "        select tbl_Produktion_Planung_Maschine.DATUM, tbl_Produktion_Planung_Maschine.ID_MASCHINE, tbl_Produktion_Planung_Maschine.MSTART, \n",
    "            tbl_Produktion_Planung_Maschine.MENDE, tbl_Produktion_Planung_Maschine.MP1_START, tbl_Produktion_Planung_Maschine.MP1_ENDE, \n",
    "            tbl_Produktion_Planung_Maschine.MP2_START, tbl_Produktion_Planung_Maschine.MP2_ENDE, tbl_Produktion_Planung_Maschine.MP3_START, \n",
    "            tbl_Produktion_Planung_Maschine.MP3_ENDE, tbl_Produktion_Planung_Maschine.MZEIT_MIN\n",
    "        from schulte.dbo.tbl_Produktion_Planung_Maschine tbl_Produktion_Planung_Maschine\n",
    "        where DATUM >= {start} and DATUM <= {end}\"\"\".format(start=start_date, end=end_date)\n",
    "    df = load_table_from_db(server, database, username, password, sql_query)\n",
    "    return df"
   ]
  },
  {
   "cell_type": "code",
   "execution_count": null,
   "metadata": {},
   "outputs": [],
   "source": [
    "server =\n",
    "database =\n",
    "username = \n",
    "password =\n",
    "df_order = load_orders_from_db(server, database, username, password)\n",
    "df_order"
   ]
  },
  {
   "cell_type": "code",
   "execution_count": null,
   "metadata": {},
   "outputs": [],
   "source": [
    "start_date = '04.04.2022 00:00:00'\n",
    "end_date = '08.04.2022 00:00:00'\n",
    "df_werksplan = load_werksplan_from_db(server, database, username, password, start_date, end_date)\n",
    "df_werksplan"
   ]
  },
  {
   "cell_type": "code",
   "execution_count": null,
   "metadata": {},
   "outputs": [],
   "source": [
    "df_maschinenplan = load_maschinenplanung_from_db(server, database, username, password, start_date, end_date)\n",
    "df_maschinenplan"
   ]
  }
 ],
 "metadata": {
  "language_info": {
   "name": "python"
  },
  "orig_nbformat": 4
 },
 "nbformat": 4,
 "nbformat_minor": 2
}
